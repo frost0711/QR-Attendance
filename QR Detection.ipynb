{
 "cells": [
  {
   "cell_type": "code",
   "execution_count": 1,
   "id": "32403ef5-76cd-4c74-9231-e76e33cab46a",
   "metadata": {},
   "outputs": [],
   "source": [
    "import os\n",
    "import cv2\n",
    "from pyzbar.pyzbar import decode\n",
    "import matplotlib.pyplot as plt\n",
    "import numpy as np\n",
    "import datetime\n",
    "import time\n",
    "import pandas as pd"
   ]
  },
  {
   "cell_type": "code",
   "execution_count": 2,
   "id": "a20eb304-8abe-4909-a226-f88c041cb4a1",
   "metadata": {},
   "outputs": [
    {
     "name": "stdout",
     "output_type": "stream",
     "text": [
      "QR Code Data: Name : Damcho Tshering \t\n",
      "DID : DS(44)21-19265\t\n",
      "CID : 10706002131\n",
      "Scanned QR codes have been saved to: scanned_qr_codes.xlsx\n"
     ]
    }
   ],
   "source": [
    "scanned_qr_codes = []\n",
    "\n",
    "cap = cv2.VideoCapture(0)\n",
    "\n",
    "while True:\n",
    "    ret, frame = cap.read()\n",
    "\n",
    "    qr_info = decode(frame)\n",
    "\n",
    "    if len(qr_info) > 0:\n",
    "        qr = qr_info[0]\n",
    "        \n",
    "        data = qr.data.decode('utf-8')\n",
    "        rect = qr.rect\n",
    "        polygon = qr.polygon\n",
    "\n",
    "        # Debug statement\n",
    "        print(\"QR Code Data:\", data)  \n",
    "\n",
    "        # Store the scanned QR code with date and time\n",
    "        scanned_qr_codes.append({'Scanned QR Code': data, 'Date': datetime.datetime.now()})  \n",
    "\n",
    "        frame = cv2.rectangle(frame, (rect.left, rect.top), (rect.left + rect.width, rect.top + rect.height),\n",
    "                              (0, 255, 0), 5)\n",
    "\n",
    "        frame = cv2.polylines(frame, [np.array(polygon)], True, (255, 0, 0), 5)\n",
    "\n",
    "        # Break out of the loop after processing a QR code\n",
    "        cv2.imshow('webcam', frame)\n",
    "        break  \n",
    "\n",
    "    cv2.imshow('webcam', frame)\n",
    "\n",
    "    if cv2.waitKey(1) & 0xFF == ord('q'):\n",
    "        break\n",
    "\n",
    "cap.release()\n",
    "cv2.destroyAllWindows()\n",
    "\n",
    "# Create a DataFrame from the scanned QR codes\n",
    "qr_code_df = pd.DataFrame(scanned_qr_codes)\n",
    "\n",
    "# Save the DataFrame to an Excel file with date and time in the file name\n",
    "output_path = 'scanned_qr_codes.xlsx'\n",
    "qr_code_df.to_excel(output_path, index=False)\n",
    "\n",
    "print(\"Scanned QR codes have been saved to:\", output_path)"
   ]
  }
 ],
 "metadata": {
  "kernelspec": {
   "display_name": "Python 3 (ipykernel)",
   "language": "python",
   "name": "python3"
  },
  "language_info": {
   "codemirror_mode": {
    "name": "ipython",
    "version": 3
   },
   "file_extension": ".py",
   "mimetype": "text/x-python",
   "name": "python",
   "nbconvert_exporter": "python",
   "pygments_lexer": "ipython3",
   "version": "3.11.5"
  }
 },
 "nbformat": 4,
 "nbformat_minor": 5
}
